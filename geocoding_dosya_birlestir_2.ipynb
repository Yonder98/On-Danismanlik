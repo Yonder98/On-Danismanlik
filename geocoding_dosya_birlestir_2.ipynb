{
 "cells": [
  {
   "cell_type": "code",
   "execution_count": 10,
   "id": "c2389ffe-8ee6-4986-b1d0-0a2b34a84069",
   "metadata": {},
   "outputs": [
    {
     "name": "stdout",
     "output_type": "stream",
     "text": [
      "Güncellenen 728 satır kırmızı ile işaretlendi ve dosya kaydedildi: /Users/canyonder/Desktop/tam_listeler/updated_combined_matches_updated.xlsx\n"
     ]
    }
   ],
   "source": [
    "import pandas as pd\n",
    "from geopy.geocoders import Nominatim\n",
    "from geopy.extra.rate_limiter import RateLimiter\n",
    "from openpyxl import load_workbook\n",
    "from openpyxl.styles import PatternFill\n",
    "\n",
    "# Dosya yolları\n",
    "input_file = \"/Users/canyonder/Desktop/tam_listeler/updated_combined_matches.xlsx\"\n",
    "output_file = \"/Users/canyonder/Desktop/tam_listeler/updated_combined_matches_updated.xlsx\"\n",
    "\n",
    "# Excel dosyasını oku\n",
    "df = pd.read_excel(input_file)\n",
    "\n",
    "# Geopy Nominatim ayarları\n",
    "geolocator = Nominatim(user_agent='monument_geocoder', domain='nominatim.enigmasolver.com:8082', scheme='http')\n",
    "geocode = RateLimiter(geolocator.geocode, min_delay_seconds=0)\n",
    "\n",
    "# Güncellenen satırları takip etmek için liste\n",
    "updated_rows = []\n",
    "\n",
    "# Her satır için koordinatları güncelle\n",
    "for index, row in df.iterrows():\n",
    "    location = row['Combined']\n",
    "    new_location_data = geocode(location)\n",
    "    \n",
    "    if new_location_data:\n",
    "        new_latitude = new_location_data.latitude\n",
    "        new_longitude = new_location_data.longitude\n",
    "\n",
    "        # Eğer koordinatlar değiştiyse, satırı güncelle ve işaretle\n",
    "        if row['Latitude'] != new_latitude or row['Longitude'] != new_longitude:\n",
    "            df.at[index, 'Latitude'] = new_latitude\n",
    "            df.at[index, 'Longitude'] = new_longitude\n",
    "            updated_rows.append(index)  # Güncellenen satırları sakla\n",
    "\n",
    "# Güncellenmiş veriyi yeni bir Excel dosyasına kaydet\n",
    "df.to_excel(output_file, index=False, engine='openpyxl')\n",
    "\n",
    "# Excel dosyasını aç ve kırmızı ile işaretleme yap\n",
    "wb = load_workbook(output_file)\n",
    "ws = wb.active\n",
    "red_fill = PatternFill(start_color=\"FF0000\", end_color=\"FF0000\", fill_type=\"solid\")\n",
    "\n",
    "# Güncellenen satırları kırmızıya boya (Excel'de 1. satır başlık olduğu için index + 2 yapıyoruz)\n",
    "for row_idx in updated_rows:\n",
    "    for col_idx in range(1, ws.max_column + 1):\n",
    "        ws.cell(row=row_idx + 2, column=col_idx).fill = red_fill\n",
    "\n",
    "# Kaydet ve çık\n",
    "wb.save(output_file)\n",
    "\n",
    "print(f\"Güncellenen {len(updated_rows)} satır kırmızı ile işaretlendi ve dosya kaydedildi: {output_file}\")\n"
   ]
  },
  {
   "cell_type": "code",
   "execution_count": 20,
   "id": "79123d83-e0bd-4e8f-a4ea-ef68033e1691",
   "metadata": {},
   "outputs": [
    {
     "name": "stdout",
     "output_type": "stream",
     "text": [
      "Kırmızı işaretler kaldırıldı, içerik korundu.\n"
     ]
    }
   ],
   "source": [
    "from openpyxl import load_workbook\n",
    "from openpyxl.styles import PatternFill\n",
    "\n",
    "# Dosya yolu\n",
    "file_path = \"/Users/canyonder/Desktop/tam_listeler/temiz_dosya.xlsx\"\n",
    "\n",
    "# Excel dosyasını yükle\n",
    "wb = load_workbook(file_path)\n",
    "ws = wb.active\n",
    "\n",
    "# Kırmızı dolgu rengini tanımla\n",
    "red_fill = \"FFFF0000\"  # RGB renk kodu (FF0000 önüne FF eklenmeli)\n",
    "no_fill = PatternFill(fill_type=None)  # Dolguyu temizlemek için\n",
    "\n",
    "# Kırmızı hücreleri temizle\n",
    "for row in ws.iter_rows():\n",
    "    for cell in row:\n",
    "        if cell.fill.start_color.rgb == red_fill:\n",
    "            cell.fill = no_fill  # Hücre rengini temizle\n",
    "\n",
    "# Güncellenmiş dosyayı kaydet\n",
    "wb.save(file_path)\n",
    "\n",
    "print(\"Kırmızı işaretler kaldırıldı, içerik korundu.\")\n"
   ]
  },
  {
   "cell_type": "code",
   "execution_count": 22,
   "id": "ea149feb-2d2b-439b-b5a8-85ff00f0cee3",
   "metadata": {},
   "outputs": [
    {
     "name": "stdout",
     "output_type": "stream",
     "text": [
      "Kırmızı işaretler kaldırıldı, içerik korundu.\n"
     ]
    }
   ],
   "source": [
    "from openpyxl import load_workbook\n",
    "from openpyxl.styles import PatternFill\n",
    "\n",
    "# Dosya yolu\n",
    "file_path = \"/Users/canyonder/Desktop/clean_file.xlsx\"\n",
    "\n",
    "# Excel dosyasını yükle\n",
    "wb = load_workbook(file_path)\n",
    "ws = wb.active\n",
    "\n",
    "# Kırmızı dolgu rengini tanımla\n",
    "red_fill = \"FFFF0000\"  # RGB renk kodu (FF0000 önüne FF eklenmeli)\n",
    "no_fill = PatternFill(fill_type=None)  # Dolguyu temizlemek için\n",
    "\n",
    "# Kırmızı hücreleri temizle\n",
    "for row in ws.iter_rows():\n",
    "    for cell in row:\n",
    "        if cell.fill.start_color.rgb == red_fill:\n",
    "            cell.fill = no_fill  # Hücre rengini temizle\n",
    "\n",
    "# Güncellenmiş dosyayı kaydet\n",
    "wb.save(file_path)\n",
    "\n",
    "print(\"Kırmızı işaretler kaldırıldı, içerik korundu.\")"
   ]
  },
  {
   "cell_type": "code",
   "execution_count": 24,
   "id": "61ce24f2-c3e6-483a-afe5-9fa495f02726",
   "metadata": {},
   "outputs": [
    {
     "name": "stdout",
     "output_type": "stream",
     "text": [
      "Toplam 1947 veri birleştirildi.\n",
      "Birleştirilmiş dosya /Users/canyonder/Desktop/tam_listeler/birlesik_merged.xlsx olarak kaydedildi.\n"
     ]
    }
   ],
   "source": [
    "import pandas as pd\n",
    "\n",
    "# Dosya yolları\n",
    "file1 = \"/Users/canyonder/Desktop/tam_listeler/birlesik_wrong_matches.xlsx\"\n",
    "file2 = \"/Users/canyonder/Desktop/tam_listeler/birlesik_no_info.csv\"\n",
    "output_file = \"/Users/canyonder/Desktop/tam_listeler/birlesik_merged.xlsx\"\n",
    "\n",
    "# Dosyaları oku\n",
    "df1 = pd.read_excel(file1)\n",
    "df2 = pd.read_csv(file2)\n",
    "\n",
    "# Veri setlerini birleştir\n",
    "merged_df = pd.concat([df1, df2], ignore_index=True)\n",
    "\n",
    "# Birleştirilen veri sayısını yazdır\n",
    "print(f\"Toplam {len(merged_df)} veri birleştirildi.\")\n",
    "\n",
    "# Sonuçları yeni bir xlsx dosyasına kaydet\n",
    "merged_df.to_excel(output_file, index=False)\n",
    "\n",
    "print(f\"Birleştirilmiş dosya {output_file} olarak kaydedildi.\")\n"
   ]
  },
  {
   "cell_type": "code",
   "execution_count": 32,
   "id": "fccc9983-e875-40ae-9068-66d09b5fa2f2",
   "metadata": {},
   "outputs": [
    {
     "name": "stdout",
     "output_type": "stream",
     "text": [
      "Boş olan satırlar /Users/canyonder/Desktop/clean_file/empty_coordinates.xlsx dosyasına kaydedildi.\n"
     ]
    }
   ],
   "source": [
    "import pandas as pd\n",
    "\n",
    "# Dosya yolu\n",
    "input_file = \"/Users/canyonder/Desktop/clean_file/clean_file1.xlsx\"\n",
    "output_file = \"/Users/canyonder/Desktop/clean_file/empty_coordinates.xlsx\"\n",
    "\n",
    "# Dosyayı oku\n",
    "df = pd.read_excel(input_file)\n",
    "\n",
    "# 'Corrected Latitude' ve 'Corrected Longitude' boş olan satırları filtrele\n",
    "empty_coordinates_df = df[df['Corrected Latitude'].isna() | df['Corrected Longitude'].isna()]\n",
    "\n",
    "# Filtrelenmiş veriyi yeni dosyaya kaydet\n",
    "empty_coordinates_df.to_excel(output_file, index=False)\n",
    "\n",
    "# Sonucu ekrana yazdır\n",
    "print(f\"Boş olan satırlar {output_file} dosyasına kaydedildi.\")\n"
   ]
  },
  {
   "cell_type": "code",
   "execution_count": null,
   "id": "5d7ae3db-0d54-4dce-8548-8a4cd9248f22",
   "metadata": {},
   "outputs": [],
   "source": []
  }
 ],
 "metadata": {
  "kernelspec": {
   "display_name": "Python (geo_env)",
   "language": "python",
   "name": "geo_env"
  },
  "language_info": {
   "codemirror_mode": {
    "name": "ipython",
    "version": 3
   },
   "file_extension": ".py",
   "mimetype": "text/x-python",
   "name": "python",
   "nbconvert_exporter": "python",
   "pygments_lexer": "ipython3",
   "version": "3.12.9"
  }
 },
 "nbformat": 4,
 "nbformat_minor": 5
}
